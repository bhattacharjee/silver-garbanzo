{
  "nbformat": 4,
  "nbformat_minor": 0,
  "metadata": {
    "colab": {
      "name": "ransomware-detection-adversarial-attack.ipynb",
      "provenance": [],
      "collapsed_sections": [],
      "authorship_tag": "ABX9TyNc1nUeOha5SdBf0zsQ+WpX",
      "include_colab_link": true
    },
    "kernelspec": {
      "name": "python3",
      "display_name": "Python 3"
    },
    "language_info": {
      "name": "python"
    }
  },
  "cells": [
    {
      "cell_type": "markdown",
      "metadata": {
        "id": "view-in-github",
        "colab_type": "text"
      },
      "source": [
        "<a href=\"https://colab.research.google.com/github/bhattacharjee/silver-garbanzo/blob/main/ransomware_detection_adversarial_attack.ipynb\" target=\"_parent\"><img src=\"https://colab.research.google.com/assets/colab-badge.svg\" alt=\"Open In Colab\"/></a>"
      ]
    },
    {
      "cell_type": "markdown",
      "source": [
        "# Introuction\n",
        "\n",
        "Brief outline of this notebook:\n",
        "\n",
        "1. We start by importing some necessary modules\n",
        "2. We load a prepared dataset containing encrypted and plaintext files\n",
        "3. We train a neural network to detect to detect encrypted content\n",
        "4. We explore the data to get a sense of how the neural network might have made it's decision.\n",
        "5. We use this information to run an attack (we have already pre-processed the adversarial dataset)\n",
        "6. We use the trained model to predict the labels on the adversarial dataset.\n",
        "7. Finally we explore the data to see what went wrong.\n"
      ],
      "metadata": {
        "id": "jiGNEtpStPio"
      }
    },
    {
      "cell_type": "markdown",
      "source": [
        ""
      ],
      "metadata": {
        "id": "yqqKvwWkthqI"
      }
    },
    {
      "cell_type": "code",
      "execution_count": 1,
      "metadata": {
        "id": "niFvnerJszNY"
      },
      "outputs": [],
      "source": [
        "import pandas as pd\n",
        "import matplotlib.pyplot as plt\n",
        "import seaborn as sns"
      ]
    }
  ]
}