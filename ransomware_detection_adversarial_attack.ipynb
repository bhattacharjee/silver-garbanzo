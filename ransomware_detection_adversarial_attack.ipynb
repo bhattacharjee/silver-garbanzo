{
  "nbformat": 4,
  "nbformat_minor": 0,
  "metadata": {
    "colab": {
      "name": "ransomware-detection-adversarial-attack.ipynb",
      "provenance": [],
      "collapsed_sections": [],
      "authorship_tag": "ABX9TyN7uHoUYhTutcVqnoKjeN8F",
      "include_colab_link": true
    },
    "kernelspec": {
      "name": "python3",
      "display_name": "Python 3"
    },
    "language_info": {
      "name": "python"
    }
  },
  "cells": [
    {
      "cell_type": "markdown",
      "metadata": {
        "id": "view-in-github",
        "colab_type": "text"
      },
      "source": [
        "<a href=\"https://colab.research.google.com/github/bhattacharjee/silver-garbanzo/blob/main/ransomware_detection_adversarial_attack.ipynb\" target=\"_parent\"><img src=\"https://colab.research.google.com/assets/colab-badge.svg\" alt=\"Open In Colab\"/></a>"
      ]
    },
    {
      "cell_type": "markdown",
      "source": [
        "# Introuction\n",
        "\n",
        "Brief outline of this notebook:\n",
        "\n",
        "1. We start by importing some necessary modules\n",
        "2. We load a prepared dataset containing encrypted and plaintext files\n",
        "3. We train a neural network to detect to detect encrypted content\n",
        "4. We explore the data to get a sense of how the neural network might have made it's decision.\n",
        "5. We use this information to run an attack (we have already pre-processed the adversarial dataset)\n",
        "6. We use the trained model to predict the labels on the adversarial dataset.\n",
        "7. Finally we explore the data to see what went wrong.\n"
      ],
      "metadata": {
        "id": "jiGNEtpStPio"
      }
    },
    {
      "cell_type": "markdown",
      "source": [
        "## Import some modules and download the dataset"
      ],
      "metadata": {
        "id": "yqqKvwWkthqI"
      }
    },
    {
      "cell_type": "code",
      "execution_count": 10,
      "metadata": {
        "id": "niFvnerJszNY",
        "outputId": "424fa136-0d21-4f51-ba3a-432cfb06f5f0",
        "colab": {
          "base_uri": "https://localhost:8080/"
        }
      },
      "outputs": [
        {
          "output_type": "stream",
          "name": "stdout",
          "text": [
            "expanded.pyencrypted_v1.b32.csv.gz  plaintext.expanded.csv.gz  silver-garbanzo\n",
            "expanded.pyencrypted_v1.csv.gz\t    sample_data\n"
          ]
        }
      ],
      "source": [
        "import pandas as pd\n",
        "import matplotlib.pyplot as plt\n",
        "import seaborn as sns\n",
        "import sklearn\n",
        "from sklearn.pipeline import Pipeline\n",
        "from sklearn.preprocessing import MinMaxScaler\n",
        "\n",
        "!git clone https://github.com/bhattacharjee/silver-garbanzo.git >/dev/null 2>&1\n",
        "!cp -r silver-garbanzo/data/*.gz .\n",
        "!ls"
      ]
    },
    {
      "cell_type": "code",
      "source": [
        "df_plaintext = pd.read_csv('plaintext.expanded.csv.gz')\n",
        "df_plaintext[\"encrypted\"] = 0\n",
        "df_plaintext = df_plaintext[df_plaintext[\"extension\"] != \".webp\"]\n",
        "\n",
        "df_encrypted = pd.read_csv('expanded.pyencrypted_v1.csv.gz')\n",
        "df_encrypted[\"encrypted\"] = 1\n",
        "df_encrypted[df_encrypted[\"extension\"] != \".webp\"]\n",
        "\n",
        "df_encrypted_base32 = pd.read_csv('expanded.pyencrypted_v1.b32.csv.gz')\n",
        "df_encrypted_base32[\"encrypted\"] = 1\n",
        "df_encrypted_base32[df_encrypted_base32[\"extension\"] != \".webp\"]\n",
        "\n",
        "training_and_validation_data = pd.concat([df_plaintext, df_encrypted])\n",
        "\n",
        "# Drop the file type, and scale the data\n",
        "# Scaling is necessary for any machine learning, especially neural networks,\n",
        "# which don't work without scaling.\n",
        "\n",
        "training_and_validation_data.drop(columns=['filename', 'extension'], inplace=True)\n",
        "df_encrypted_base32.drop(columns=['filename', 'extension'], inplace=True)\n",
        "\n",
        "scaler = MinMaxScaler()\n",
        "training_and_validation_data = scaler.fit_transform(training_and_validation_data)\n",
        "df_encrypted_base32 = scaler.transform(df_encrypted_base32)"
      ],
      "metadata": {
        "id": "I_5U0NIHu7uh"
      },
      "execution_count": 15,
      "outputs": []
    },
    {
      "cell_type": "code",
      "source": [
        ""
      ],
      "metadata": {
        "id": "PxK6QW3Vw_JS"
      },
      "execution_count": null,
      "outputs": []
    }
  ]
}