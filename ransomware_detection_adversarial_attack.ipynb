{
  "nbformat": 4,
  "nbformat_minor": 0,
  "metadata": {
    "colab": {
      "name": "ransomware-detection-adversarial-attack.ipynb",
      "provenance": [],
      "collapsed_sections": [],
      "authorship_tag": "ABX9TyOgtBpmlr4VYNdo4XK14L2J",
      "include_colab_link": true
    },
    "kernelspec": {
      "name": "python3",
      "display_name": "Python 3"
    },
    "language_info": {
      "name": "python"
    },
    "accelerator": "GPU"
  },
  "cells": [
    {
      "cell_type": "markdown",
      "metadata": {
        "id": "view-in-github",
        "colab_type": "text"
      },
      "source": [
        "<a href=\"https://colab.research.google.com/github/bhattacharjee/silver-garbanzo/blob/main/ransomware_detection_adversarial_attack.ipynb\" target=\"_parent\"><img src=\"https://colab.research.google.com/assets/colab-badge.svg\" alt=\"Open In Colab\"/></a>"
      ]
    },
    {
      "cell_type": "markdown",
      "source": [
        "# Introuction\n",
        "\n",
        "Brief outline of this notebook:\n",
        "\n",
        "1. We start by importing some necessary modules\n",
        "2. We load a prepared dataset containing encrypted and plaintext files\n",
        "3. We train a neural network to detect to detect encrypted content\n",
        "4. We explore the data to get a sense of how the neural network might have made it's decision.\n",
        "5. We use this information to run an attack (we have already pre-processed the adversarial dataset)\n",
        "6. We use the trained model to predict the labels on the adversarial dataset.\n",
        "7. Finally we explore the data to see what went wrong.\n"
      ],
      "metadata": {
        "id": "jiGNEtpStPio"
      }
    },
    {
      "cell_type": "markdown",
      "source": [
        "## Import some modules and download the dataset"
      ],
      "metadata": {
        "id": "yqqKvwWkthqI"
      }
    },
    {
      "cell_type": "code",
      "execution_count": 1,
      "metadata": {
        "id": "niFvnerJszNY",
        "colab": {
          "base_uri": "https://localhost:8080/"
        },
        "outputId": "6806493b-45e7-4f06-f9b0-65d395b29320"
      },
      "outputs": [
        {
          "output_type": "stream",
          "name": "stdout",
          "text": [
            "expanded.pyencrypted_v1.b32.csv.gz  plaintext.expanded.csv.gz  silver-garbanzo\n",
            "expanded.pyencrypted_v1.csv.gz\t    sample_data\n"
          ]
        }
      ],
      "source": [
        "import pandas as pd\n",
        "import matplotlib.pyplot as plt\n",
        "import seaborn as sns\n",
        "import sklearn\n",
        "from sklearn.pipeline import Pipeline\n",
        "from sklearn.preprocessing import MinMaxScaler\n",
        "from sklearn.model_selection import train_test_split\n",
        "import IPython\n",
        "\n",
        "from sklearn.metrics import accuracy_score, precision_score, recall_score, f1_score\n",
        "from sklearn.model_selection import train_test_split\n",
        "import tensorflow as tf\n",
        "from tensorflow.keras import layers, losses\n",
        "from tensorflow.keras.datasets import fashion_mnist\n",
        "from tensorflow.keras.models import Model\n",
        "\n",
        "\n",
        "!git clone https://github.com/bhattacharjee/silver-garbanzo.git >/dev/null 2>&1\n",
        "!cp -r silver-garbanzo/data/*.gz .\n",
        "!ls"
      ]
    },
    {
      "cell_type": "code",
      "source": [
        "df_plaintext = pd.read_csv('plaintext.expanded.csv.gz')\n",
        "df_plaintext[\"encrypted\"] = 0\n",
        "df_plaintext = df_plaintext[df_plaintext[\"extension\"] != \".webp\"]\n",
        "\n",
        "df_encrypted = pd.read_csv('expanded.pyencrypted_v1.csv.gz')\n",
        "df_encrypted[\"encrypted\"] = 1\n",
        "df_encrypted[df_encrypted[\"extension\"] != \".webp\"]\n",
        "\n",
        "df_encrypted_base32 = pd.read_csv('expanded.pyencrypted_v1.b32.csv.gz')\n",
        "df_encrypted_base32[\"encrypted\"] = 1\n",
        "df_encrypted_base32[df_encrypted_base32[\"extension\"] != \".webp\"]\n",
        "\n",
        "training_and_validation_data = pd.concat([df_plaintext, df_encrypted])\n",
        "\n",
        "# Drop the file type, and scale the data\n",
        "# Scaling is necessary for any machine learning, especially neural networks,\n",
        "# which don't work without scaling.\n",
        "\n",
        "training_and_validation_data.drop(\\\n",
        "                                columns=['filename', 'extension'], \\\n",
        "                                inplace=True)\n",
        "df_encrypted_base32.drop(columns=['filename', 'extension'], inplace=True)\n",
        "\n",
        "scaler = MinMaxScaler()\n",
        "training_and_validation_data = scaler.fit_transform(training_and_validation_data)\n",
        "train_columns = [c for c in df_encrypted_base32.columns if \"encrypted\" != c]\n",
        "\n",
        "df_encrypted_base32 = scaler.transform(df_encrypted_base32)\n",
        "\n",
        "# Split columsn into features and target labels\n",
        "# X represents the features, and y the target labels\n",
        "X, y = training_and_validation_data[:,:-1], training_and_validation_data[:,-1]\n",
        "\n",
        "b32_X, b32_y = df_encrypted_base32[:,:-1], df_encrypted_base32[:,-1]\n",
        "\n",
        "\n",
        "X_train, X_test, y_train, y_test= \\\n",
        "    train_test_split(X, y, test_size=0.1)\n",
        "X_train, X_val, y_train, y_val= \\\n",
        "    train_test_split(X_train, y_train, test_size=0.2)"
      ],
      "metadata": {
        "id": "I_5U0NIHu7uh"
      },
      "execution_count": 2,
      "outputs": []
    },
    {
      "cell_type": "markdown",
      "source": [
        " We now train a neural network to distinguish between encrypted and plaintext content. \n",
        "\n",
        " For our dataset, we use a corpus of about 50,000 encrypted and 50,000 plaintext files.\n",
        "\n",
        " The encrypted files are encrypted with the AES algorithm.\n",
        " \n",
        " We build a fully connected neural network and train it. Off the bat, we get\n",
        " a good test accuracy."
      ],
      "metadata": {
        "id": "Rfnf0Wx67cnF"
      }
    },
    {
      "cell_type": "code",
      "source": [
        "class Model:\n",
        "    def create(X):\n",
        "        model = tf.keras.Sequential(\n",
        "            [\n",
        "                layers.Dense(6, input_dim=X.shape[1], activation='relu'),\n",
        "                layers.Dropout(0.2),\n",
        "                layers.Dense(4, activation='relu'),\n",
        "                layers.Dropout(0.2),\n",
        "                layers.Dense(2, activation='relu'),\n",
        "                layers.Dense(1, activation='sigmoid')\n",
        "            ]\n",
        "        )\n",
        "        model.compile(\\\n",
        "                      loss='binary_crossentropy', \\\n",
        "                      optimizer='adam', \\\n",
        "                      metrics=['accuracy'])\n",
        "        Model.print_and_plot(model)\n",
        "        return model\n",
        "    \n",
        "    def print_and_plot(model):\n",
        "        print(model.summary())\n",
        "        plot = tf.keras.utils.plot_model(\n",
        "            model,\n",
        "            show_shapes=True,\n",
        "            expand_nested=True)\n",
        "        IPython.display.display(plot)\n",
        "\n",
        "model = Model.create(X_train)\n",
        "\n",
        "history = model.fit(X_train, y_train,\n",
        "            epochs=3,\n",
        "            validation_data=(X_val, y_val),\n",
        "            batch_size=16)\n"
      ],
      "metadata": {
        "colab": {
          "base_uri": "https://localhost:8080/",
          "height": 1000
        },
        "id": "yV5s3BaC1q7A",
        "outputId": "25207463-5849-4d80-ea4b-2653c7edf936"
      },
      "execution_count": 3,
      "outputs": [
        {
          "output_type": "stream",
          "name": "stdout",
          "text": [
            "Model: \"sequential\"\n",
            "_________________________________________________________________\n",
            " Layer (type)                Output Shape              Param #   \n",
            "=================================================================\n",
            " dense (Dense)               (None, 6)                 42        \n",
            "                                                                 \n",
            " dropout (Dropout)           (None, 6)                 0         \n",
            "                                                                 \n",
            " dense_1 (Dense)             (None, 4)                 28        \n",
            "                                                                 \n",
            " dropout_1 (Dropout)         (None, 4)                 0         \n",
            "                                                                 \n",
            " dense_2 (Dense)             (None, 2)                 10        \n",
            "                                                                 \n",
            " dense_3 (Dense)             (None, 1)                 3         \n",
            "                                                                 \n",
            "=================================================================\n",
            "Total params: 83\n",
            "Trainable params: 83\n",
            "Non-trainable params: 0\n",
            "_________________________________________________________________\n",
            "None\n"
          ]
        },
        {
          "output_type": "display_data",
          "data": {
            "text/plain": [
              "<IPython.core.display.Image object>"
            ],
            "image/png": "[encoded data removed]"
          },
          "metadata": {}
        },
        {
          "output_type": "stream",
          "name": "stdout",
          "text": [
            "Epoch 1/3\n",
            "5854/5854 [==============================] - 35s 5ms/step - loss: 0.4344 - accuracy: 0.8244 - val_loss: 0.2155 - val_accuracy: 0.9436\n",
            "Epoch 2/3\n",
            "5854/5854 [==============================] - 20s 3ms/step - loss: 0.2526 - accuracy: 0.9174 - val_loss: 0.1826 - val_accuracy: 0.9523\n",
            "Epoch 3/3\n",
            "5854/5854 [==============================] - 20s 3ms/step - loss: 0.2215 - accuracy: 0.9300 - val_loss: 0.1652 - val_accuracy: 0.9527\n"
          ]
        }
      ]
    },
    {
      "cell_type": "code",
      "source": [
        "fig, ax = plt.subplots(1, 2)\n",
        "\n",
        "plt.sca(ax[0])\n",
        "plt.plot(history.history['loss'], label='loss')\n",
        "plt.plot(history.history['val_loss'], label = 'validation loss')\n",
        "plt.legend()\n",
        "\n",
        "plt.sca(ax[1])\n",
        "plt.plot(history.history['accuracy'], label='accuracy')\n",
        "plt.plot(history.history['val_accuracy'], label='validation accuracy')\n",
        "plt.legend()\n"
      ],
      "metadata": {
        "colab": {
          "base_uri": "https://localhost:8080/",
          "height": 284
        },
        "id": "c1TmDOl03B9B",
        "outputId": "abe2a393-1422-4eb2-ab80-52b734347b78"
      },
      "execution_count": 4,
      "outputs": [
        {
          "output_type": "execute_result",
          "data": {
            "text/plain": [
              "<matplotlib.legend.Legend at 0x7fcf23e92910>"
            ]
          },
          "metadata": {},
          "execution_count": 4
        },
        {
          "output_type": "display_data",
          "data": {
            "text/plain": [
              "<Figure size 432x288 with 2 Axes>"
            ],
            "image/png": "[encoded data removed]"
          },
          "metadata": {
            "needs_background": "light"
          }
        }
      ]
    },
    {
      "cell_type": "code",
      "source": [
        "y_pred = model.predict(X_test)\n",
        "y_pred = y_pred > 0.5\n",
        "\n",
        "test_accuracy = accuracy_score(y_test, y_pred)\n",
        "test_f1_score = f1_score(y_test, y_pred)\n",
        "\n",
        "print(f\"Test Accuracy    : {test_accuracy}\")\n",
        "print(f\"Test F1          : {test_f1_score}\")"
      ],
      "metadata": {
        "colab": {
          "base_uri": "https://localhost:8080/"
        },
        "id": "8EI49qdU3uN6",
        "outputId": "740a0f11-1b49-49b6-9ec5-e3ca23bd43d2"
      },
      "execution_count": 5,
      "outputs": [
        {
          "output_type": "stream",
          "name": "stdout",
          "text": [
            "Test Accuracy    : 0.9491890229840879\n",
            "Test F1          : 0.960106222463637\n"
          ]
        }
      ]
    },
    {
      "cell_type": "markdown",
      "source": [
        "# The attack\n",
        "\n",
        "Now let's say the attacker has smarted up, and what he does is after encrypting the files, he uses base-32 encoding on the encrypted files.\n",
        "\n",
        "We now test the accuracy of our trained model against the same set of 50,000 encrypted files. The only difference is that this time, the files have been base-32 encoded after encryption."
      ],
      "metadata": {
        "id": "1kZTy57P__Rc"
      }
    },
    {
      "cell_type": "code",
      "source": [
        "b32_y_pred = model.predict(b32_X)\n",
        "b32_y_pred = b32_y_pred > 0.5\n",
        "\n",
        "base32_accuracy = accuracy_score(b32_y, b32_y_pred)\n",
        "base32_f1_score = f1_score(b32_y, b32_y_pred)\n",
        "\n",
        "print(f\"Base 32 Test Accuracy    : {base32_accuracy}\")\n",
        "print(f\"Base 32 Test F1          : {base32_f1_score}\")"
      ],
      "metadata": {
        "colab": {
          "base_uri": "https://localhost:8080/"
        },
        "id": "9BvtZ87e8QpO",
        "outputId": "f2c2da2e-5dd1-4f22-d4a3-4aa2ed24f3ce"
      },
      "execution_count": 6,
      "outputs": [
        {
          "output_type": "stream",
          "name": "stdout",
          "text": [
            "Base 32 Test Accuracy    : 0.0\n",
            "Base 32 Test F1          : 0.0\n"
          ]
        }
      ]
    },
    {
      "cell_type": "markdown",
      "source": [
        "## Massive failure\n",
        "\n",
        "It appears that our accuracy was 0.\n",
        "\n",
        "So we look at what went wrong."
      ],
      "metadata": {
        "id": "oJ5nm9LDAWBO"
      }
    },
    {
      "cell_type": "code",
      "source": [
        "print(b32_y_pred)"
      ],
      "metadata": {
        "id": "fx0vWXUG_NA-",
        "outputId": "457c881d-1b8d-432c-a424-f2d42ea47ada",
        "colab": {
          "base_uri": "https://localhost:8080/"
        }
      },
      "execution_count": 8,
      "outputs": [
        {
          "output_type": "stream",
          "name": "stdout",
          "text": [
            "[[False]\n",
            " [False]\n",
            " [False]\n",
            " ...\n",
            " [False]\n",
            " [False]\n",
            " [False]]\n"
          ]
        }
      ]
    },
    {
      "cell_type": "markdown",
      "source": [
        "Aparently, everything was classified as plaintext\n"
      ],
      "metadata": {
        "id": "fu-_gA7qAviP"
      }
    },
    {
      "cell_type": "markdown",
      "source": [
        "## Now we try to dig into why this happened\n",
        "\n",
        "In general, the output of any good encryption algorithm looks like a random sequence of bytes. If the appearance of encrypted text is not random, then the encryption algorithm is not a very strong algorithm.\n",
        "\n",
        "Our neural network tries to use this property of encryption to distinguish between encrypted and unencrypted content.\n",
        "\n",
        "But how does it do that? It uses a few statistical measures.\n",
        "\n",
        "A very common statistical measure is Shannon's Entropy, and is given by the following expression:\n",
        "\n",
        "$\\displaystyle \\mathrm {H} (X)=-\\sum _{i=1}^{n}{\\mathrm {P} (x_{i})\\log \\mathrm {P} (x_{i})}$\n",
        "\n",
        "Entropy measures the *randomness* of a given text. If the text has a lot of different characters, and each of those characters appears roughly the same number of times, then it would have a high entropy. By contrast, if the text has only a small number of characters, or if few of the characters dominate the frequency count, and other characters are less frequent, then the entropy will be low.\n",
        "\n",
        "In general, encrypted text has a high entropy. But when encrypted text is converted to base-32, the encoding reduces the number of characters in the text, and that, in turn, reduces the entropy.\n",
        "\n",
        "Besides entropy, our dataset also had a few other measures of randomness:\n",
        "1. Chi-square metric\n",
        "2. Monte-carlo simulation of $\\pi$\n",
        "3. Auto-correlation\n",
        "\n",
        "We will now plot the entropy values in the files in the original plaintext, and the original (non-base32) encrypted text to show "
      ],
      "metadata": {
        "id": "zFd-1mP8A2yV"
      }
    },
    {
      "cell_type": "code",
      "source": [
        ""
      ],
      "metadata": {
        "id": "Pkrj-DVE_a8h"
      },
      "execution_count": 7,
      "outputs": []
    }
  ]
}